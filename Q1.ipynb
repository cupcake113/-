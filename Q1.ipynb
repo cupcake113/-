{
 "cells": [
  {
   "cell_type": "code",
   "execution_count": 2,
   "id": "e9ea551b",
   "metadata": {},
   "outputs": [
    {
     "name": "stdout",
     "output_type": "stream",
     "text": [
      "كم عدد العناصر التي تريد إضافتها إلى الطابور؟ 2\n",
      "أدخل العنصر 1: 1\n",
      "أدخل العنصر 2: 2\n",
      "محتويات الطابور:\n",
      "1\n",
      "2\n"
     ]
    }
   ],
   "source": [
    "import queue\n",
    "\n",
    "# إنشاء طابور فارغ\n",
    "q = queue.Queue()\n",
    "\n",
    "# تحديد عدد العناصر التي سيتم إدخالها\n",
    "num_elements = int(input(\"كم عدد العناصر التي تريد إضافتها إلى الطابور؟ \"))\n",
    "\n",
    "# إدخال العناصر من المستخدم\n",
    "for i in range(num_elements):\n",
    "    item = input(f\"أدخل العنصر {i+1}: \")\n",
    "    q.put(item)\n",
    "\n",
    "# عرض محتويات الطابور\n",
    "print(\"محتويات الطابور:\")\n",
    "while not q.empty():\n",
    "    print(q.get())\n"
   ]
  },
  {
   "cell_type": "code",
   "execution_count": null,
   "id": "203654cd",
   "metadata": {},
   "outputs": [],
   "source": []
  }
 ],
 "metadata": {
  "kernelspec": {
   "display_name": "Python 3 (ipykernel)",
   "language": "python",
   "name": "python3"
  },
  "language_info": {
   "codemirror_mode": {
    "name": "ipython",
    "version": 3
   },
   "file_extension": ".py",
   "mimetype": "text/x-python",
   "name": "python",
   "nbconvert_exporter": "python",
   "pygments_lexer": "ipython3",
   "version": "3.11.5"
  }
 },
 "nbformat": 4,
 "nbformat_minor": 5
}
